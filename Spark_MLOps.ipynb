{
 "cells": [
  {
   "cell_type": "markdown",
   "id": "2391ca98-2d64-4a3a-822c-370587a4174a",
   "metadata": {},
   "source": [
    "### Analyse search terms on the e-commerce web server\n"
   ]
  },
  {
   "cell_type": "markdown",
   "id": "e12889be-b54e-4830-8212-bcc10855f674",
   "metadata": {},
   "source": [
    "##### In this assignment you will download the search term data set for the e-commerce web server and run analytic queries on it.\n"
   ]
  },
  {
   "cell_type": "code",
   "execution_count": null,
   "id": "acd0075c-684f-4d99-9e20-4b836dd81573",
   "metadata": {},
   "outputs": [],
   "source": [
    "# Install spark\n",
    "# Install spark\n",
    "!pip install pyspark\n",
    "!pip install findspark"
   ]
  },
  {
   "cell_type": "code",
   "execution_count": null,
   "id": "297e5f47-53b5-4a64-99be-983b8af077fe",
   "metadata": {},
   "outputs": [],
   "source": [
    "import findspark\n",
    "findspark.init()\n",
    "from pyspark import SparkContext, SparkConf\n",
    "from pyspark.sql import SparkSession\n",
    "from pyspark.ml.feature import VectorAssembler, Normalizer, StandardScaler\n",
    "from pyspark.ml.stat import Correlation\n",
    "from pyspark.ml.regression import LinearRegression\n",
    "import pandas as pd\n",
    "import matplotlib.pyplot as plt\n",
    "import pyspark.sql.functions"
   ]
  },
  {
   "cell_type": "code",
   "execution_count": null,
   "id": "764d2a7b-c242-47e4-972e-a15fe81b4bed",
   "metadata": {},
   "outputs": [],
   "source": [
    "# Start session\n",
    "# Start session\n",
    "sc = SparkContext()\n",
    "\n",
    "spark = SparkSession \\\n",
    "    .builder \\\n",
    "    .appName(\"Saving and Loading a SparkML Model\").getOrCreate()"
   ]
  },
  {
   "cell_type": "code",
   "execution_count": null,
   "id": "6143943a-b073-4b4b-9b01-36f4799b57df",
   "metadata": {},
   "outputs": [],
   "source": [
    "spark"
   ]
  },
  {
   "cell_type": "code",
   "execution_count": null,
   "id": "f4517d15-4705-437b-a723-e4c5d7970783",
   "metadata": {},
   "outputs": [],
   "source": [
    "# Download The search term dataset from the below url\n",
    "\n",
    "# https://cf-courses-data.s3.us.cloud-object-storage.appdomain.cloud/IBM-DB0321EN-SkillsNetwork/Bigdata%20and%20Spark/searchterms.csv"
   ]
  },
  {
   "cell_type": "code",
   "execution_count": null,
   "id": "c786c0d8-43a0-4954-b670-6646a9df6efb",
   "metadata": {},
   "outputs": [],
   "source": [
    "mydata = pd.read_csv('https://cf-courses-data.s3.us.cloud-object-storage.appdomain.cloud/IBM-DB0321EN-SkillsNetwork/Bigdata%20and%20Spark/searchterms.csv')\n",
    "mydata.head()"
   ]
  },
  {
   "cell_type": "code",
   "execution_count": null,
   "id": "8b69b658-4b8d-4de2-8550-fe49235599b6",
   "metadata": {},
   "outputs": [],
   "source": [
    "# Load the csv into a spark dataframe"
   ]
  },
  {
   "cell_type": "code",
   "execution_count": null,
   "id": "fdb27866-4ae2-451b-9d86-6da117ba727b",
   "metadata": {},
   "outputs": [],
   "source": [
    "sdf = spark.createDataFrame(mydata)"
   ]
  },
  {
   "cell_type": "code",
   "execution_count": null,
   "id": "3001137c-e6b6-4a9e-8c82-198ff672ea54",
   "metadata": {},
   "outputs": [],
   "source": [
    "# Print the number of rows and columns"
   ]
  },
  {
   "cell_type": "code",
   "execution_count": null,
   "id": "1a30710a-f2b2-4e37-aa8d-3018e230bbbd",
   "metadata": {},
   "outputs": [],
   "source": [
    "col = len(sdf.columns)\n",
    "row = sdf.count()\n",
    "print(\"Columns : \" ,col,\"\\n\",\"Rows : \", row)"
   ]
  },
  {
   "cell_type": "code",
   "execution_count": null,
   "id": "7f332302-65cf-47bc-bf6f-f4a8a20fd2e1",
   "metadata": {},
   "outputs": [],
   "source": [
    "# Print the top 5 rows"
   ]
  },
  {
   "cell_type": "code",
   "execution_count": null,
   "id": "0b3ccd8d-f577-4ccc-89c4-1304ee42c98f",
   "metadata": {},
   "outputs": [],
   "source": [
    "sdf.head(5)"
   ]
  },
  {
   "cell_type": "code",
   "execution_count": null,
   "id": "adae0a63-8698-4421-8cd7-3126222a22c8",
   "metadata": {},
   "outputs": [],
   "source": [
    "# Find out the datatype of the column searchterm?"
   ]
  },
  {
   "cell_type": "code",
   "execution_count": null,
   "id": "85717fda-84d2-410a-a0eb-bae241d02c20",
   "metadata": {},
   "outputs": [],
   "source": [
    "sdf.printSchema()"
   ]
  },
  {
   "cell_type": "code",
   "execution_count": null,
   "id": "ab9cfe82-2e94-4a66-8bde-bc000bfa5c40",
   "metadata": {},
   "outputs": [],
   "source": [
    "# How many times was the term `gaming laptop` searched?"
   ]
  },
  {
   "cell_type": "code",
   "execution_count": null,
   "id": "de8772f0-99c4-4a47-b575-ed8124cca446",
   "metadata": {},
   "outputs": [],
   "source": [
    "from pyspark.sql.functions import col"
   ]
  },
  {
   "cell_type": "code",
   "execution_count": null,
   "metadata": {},
   "outputs": [],
   "source": [
    "sdf.filter(col(\"searchterm\").like(\"gaming laptop\")).count()"
   ]
  },
  {
   "cell_type": "code",
   "execution_count": null,
   "id": "8ce5eab9-db67-4d7e-9e95-ff0f9943e53d",
   "metadata": {},
   "outputs": [],
   "source": [
    "# Print the top 5 most frequently used search terms?"
   ]
  },
  {
   "cell_type": "code",
   "execution_count": null,
   "id": "bb8679c5-7c78-4fdf-9e75-7e46eba10776",
   "metadata": {},
   "outputs": [],
   "source": [
    "sdf.groupBy(\"searchterm\").count().orderBy(col(\"count\").desc()).show(5)"
   ]
  },
  {
   "cell_type": "code",
   "execution_count": null,
   "id": "88b86201-02da-496d-ad4d-36a89d750c29",
   "metadata": {},
   "outputs": [],
   "source": [
    "# The pretrained sales forecasting model is available at  the below url\n",
    "# https://cf-courses-data.s3.us.cloud-object-storage.appdomain.cloud/IBM-DB0321EN-SkillsNetwork/Bigdata%20and%20Spark/model.tar.gz"
   ]
  },
  {
   "cell_type": "code",
   "execution_count": null,
   "metadata": {},
   "outputs": [],
   "source": [
    "!wget https://cf-courses-data.s3.us.cloud-object-storage.appdomain.cloud/IBM-DB0321EN-SkillsNetwork/Bigdata%20and%20Spark/model.tar.gz\n",
    "# Extract downloded model\n",
    "!tar -xvzf model.tar.gz"
   ]
  },
  {
   "cell_type": "code",
   "execution_count": null,
   "id": "5d279dfa-aca8-48c5-8af4-2fc6e113b8d5",
   "metadata": {},
   "outputs": [],
   "source": [
    "# Load the sales forecast model."
   ]
  },
  {
   "cell_type": "code",
   "execution_count": null,
   "id": "9fe17c5d-6b10-45b4-930a-2ac1c1ab2f64",
   "metadata": {},
   "outputs": [],
   "source": [
    "from pyspark.ml.regression import LinearRegressionModel"
   ]
  },
  {
   "cell_type": "code",
   "execution_count": null,
   "metadata": {},
   "outputs": [],
   "source": [
    "model = LinearRegressionModel.load('sales_prediction.model')"
   ]
  },
  {
   "cell_type": "code",
   "execution_count": null,
   "id": "59161500-aaea-486d-9466-3813cff9bc76",
   "metadata": {},
   "outputs": [],
   "source": [
    "# Using the sales forecast model, predict the sales for the year of 2023."
   ]
  },
  {
   "cell_type": "code",
   "execution_count": null,
   "id": "cf86e22a-bb62-407a-bcc7-7f20daa1a384",
   "metadata": {},
   "outputs": [],
   "source": [
    "def predict(year):\n",
    "    assembler = VectorAssembler(inputCols=[\"year\"],outputCol=\"features\")\n",
    "    data = [[year,0]]\n",
    "    columns = [\"year\",\"sales\"]\n",
    "    _ = spark.createDataFrame(data, columns)\n",
    "    __ = assembler.transform(_).select('features','year')\n",
    "    predictions = model.transform(__)\n",
    "    predictions.select('prediction').show()"
   ]
  },
  {
   "cell_type": "code",
   "execution_count": null,
   "metadata": {},
   "outputs": [],
   "source": [
    "predict(2023)"
   ]
  }
 ],
 "metadata": {
  "kernelspec": {
   "display_name": "Python 3 (ipykernel)",
   "language": "python",
   "name": "python3"
  },
  "language_info": {
   "codemirror_mode": {
    "name": "ipython",
    "version": 3
   },
   "file_extension": ".py",
   "mimetype": "text/x-python",
   "name": "python",
   "nbconvert_exporter": "python",
   "pygments_lexer": "ipython3",
   "version": "3.10.7"
  }
 },
 "nbformat": 4,
 "nbformat_minor": 4
}
